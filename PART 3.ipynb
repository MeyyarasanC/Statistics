{
 "cells": [
  {
   "cell_type": "markdown",
   "id": "c15108aa",
   "metadata": {},
   "source": [
    "# PART 3\n",
    "# Question 1\n",
    "## Read the CSV file."
   ]
  },
  {
   "cell_type": "code",
   "execution_count": 106,
   "id": "b3ba9dec",
   "metadata": {},
   "outputs": [
    {
     "data": {
      "text/html": [
       "<div>\n",
       "<style scoped>\n",
       "    .dataframe tbody tr th:only-of-type {\n",
       "        vertical-align: middle;\n",
       "    }\n",
       "\n",
       "    .dataframe tbody tr th {\n",
       "        vertical-align: top;\n",
       "    }\n",
       "\n",
       "    .dataframe thead th {\n",
       "        text-align: right;\n",
       "    }\n",
       "</style>\n",
       "<table border=\"1\" class=\"dataframe\">\n",
       "  <thead>\n",
       "    <tr style=\"text-align: right;\">\n",
       "      <th></th>\n",
       "      <th>Startup</th>\n",
       "      <th>Product</th>\n",
       "      <th>Funding</th>\n",
       "      <th>Event</th>\n",
       "      <th>Result</th>\n",
       "      <th>OperatingState</th>\n",
       "    </tr>\n",
       "  </thead>\n",
       "  <tbody>\n",
       "    <tr>\n",
       "      <th>0</th>\n",
       "      <td>2600Hz</td>\n",
       "      <td>2600hz.com</td>\n",
       "      <td>NaN</td>\n",
       "      <td>Disrupt SF 2013</td>\n",
       "      <td>Contestant</td>\n",
       "      <td>Operating</td>\n",
       "    </tr>\n",
       "    <tr>\n",
       "      <th>1</th>\n",
       "      <td>3DLT</td>\n",
       "      <td>3dlt.com</td>\n",
       "      <td>$630K</td>\n",
       "      <td>Disrupt NYC 2013</td>\n",
       "      <td>Contestant</td>\n",
       "      <td>Closed</td>\n",
       "    </tr>\n",
       "    <tr>\n",
       "      <th>2</th>\n",
       "      <td>3DPrinterOS</td>\n",
       "      <td>3dprinteros.com</td>\n",
       "      <td>NaN</td>\n",
       "      <td>Disrupt SF 2016</td>\n",
       "      <td>Contestant</td>\n",
       "      <td>Operating</td>\n",
       "    </tr>\n",
       "    <tr>\n",
       "      <th>3</th>\n",
       "      <td>3Dprintler</td>\n",
       "      <td>3dprintler.com</td>\n",
       "      <td>$1M</td>\n",
       "      <td>Disrupt NY 2016</td>\n",
       "      <td>Audience choice</td>\n",
       "      <td>Operating</td>\n",
       "    </tr>\n",
       "    <tr>\n",
       "      <th>4</th>\n",
       "      <td>42 Technologies</td>\n",
       "      <td>42technologies.com</td>\n",
       "      <td>NaN</td>\n",
       "      <td>Disrupt NYC 2013</td>\n",
       "      <td>Contestant</td>\n",
       "      <td>Operating</td>\n",
       "    </tr>\n",
       "  </tbody>\n",
       "</table>\n",
       "</div>"
      ],
      "text/plain": [
       "           Startup             Product Funding             Event  \\\n",
       "0           2600Hz          2600hz.com     NaN   Disrupt SF 2013   \n",
       "1             3DLT            3dlt.com   $630K  Disrupt NYC 2013   \n",
       "2      3DPrinterOS     3dprinteros.com     NaN   Disrupt SF 2016   \n",
       "3       3Dprintler      3dprintler.com     $1M   Disrupt NY 2016   \n",
       "4  42 Technologies  42technologies.com     NaN  Disrupt NYC 2013   \n",
       "\n",
       "            Result OperatingState  \n",
       "0       Contestant      Operating  \n",
       "1       Contestant         Closed  \n",
       "2       Contestant      Operating  \n",
       "3  Audience choice      Operating  \n",
       "4       Contestant      Operating  "
      ]
     },
     "execution_count": 106,
     "metadata": {},
     "output_type": "execute_result"
    }
   ],
   "source": [
    "import numpy as np\n",
    "import pandas as pd\n",
    "import matplotlib.pyplot as plt\n",
    "import seaborn as sns\n",
    "import scipy.stats as stats\n",
    "\n",
    "%matplotlib inline\n",
    "\n",
    "company= pd.read_csv ('DS+-+Part3+-+CompanyX_EU.csv')\n",
    "company.head()"
   ]
  },
  {
   "cell_type": "markdown",
   "id": "f83ebf75",
   "metadata": {},
   "source": [
    "## Question 2.\n",
    "### 2 A. Check the datatypes of each attribute.\n",
    "###   B. Check for null values in the attributes."
   ]
  },
  {
   "cell_type": "code",
   "execution_count": 3,
   "id": "236964df",
   "metadata": {},
   "outputs": [
    {
     "data": {
      "text/plain": [
       "(662, 6)"
      ]
     },
     "execution_count": 3,
     "metadata": {},
     "output_type": "execute_result"
    }
   ],
   "source": [
    "company.shape"
   ]
  },
  {
   "cell_type": "code",
   "execution_count": 36,
   "id": "60ea53d2",
   "metadata": {
    "scrolled": true
   },
   "outputs": [
    {
     "name": "stdout",
     "output_type": "stream",
     "text": [
      "<class 'pandas.core.frame.DataFrame'>\n",
      "RangeIndex: 662 entries, 0 to 661\n",
      "Data columns (total 6 columns):\n",
      " #   Column          Non-Null Count  Dtype \n",
      "---  ------          --------------  ----- \n",
      " 0   Startup         662 non-null    object\n",
      " 1   Product         656 non-null    object\n",
      " 2   Funding         448 non-null    object\n",
      " 3   Event           662 non-null    object\n",
      " 4   Result          662 non-null    object\n",
      " 5   OperatingState  662 non-null    object\n",
      "dtypes: object(6)\n",
      "memory usage: 31.2+ KB\n"
     ]
    }
   ],
   "source": [
    "company.info()"
   ]
  },
  {
   "cell_type": "code",
   "execution_count": 37,
   "id": "76c21c1f",
   "metadata": {},
   "outputs": [
    {
     "data": {
      "text/plain": [
       "Startup           object\n",
       "Product           object\n",
       "Funding           object\n",
       "Event             object\n",
       "Result            object\n",
       "OperatingState    object\n",
       "dtype: object"
      ]
     },
     "execution_count": 37,
     "metadata": {},
     "output_type": "execute_result"
    }
   ],
   "source": [
    "company.dtypes  #funding need to be convert into standard numerical format for analysis"
   ]
  },
  {
   "cell_type": "code",
   "execution_count": 38,
   "id": "a6d632f4",
   "metadata": {},
   "outputs": [
    {
     "data": {
      "text/plain": [
       "Startup             0\n",
       "Product             6\n",
       "Funding           214\n",
       "Event               0\n",
       "Result              0\n",
       "OperatingState      0\n",
       "dtype: int64"
      ]
     },
     "execution_count": 38,
     "metadata": {},
     "output_type": "execute_result"
    }
   ],
   "source": [
    "company.isnull().sum()  #'Product' has 6 Null values and 'Funding' has 214 Null values"
   ]
  },
  {
   "cell_type": "code",
   "execution_count": 39,
   "id": "26a67786",
   "metadata": {},
   "outputs": [
    {
     "data": {
      "text/plain": [
       "Startup           662\n",
       "Product           656\n",
       "Funding           240\n",
       "Event              26\n",
       "Result              5\n",
       "OperatingState      4\n",
       "dtype: int64"
      ]
     },
     "execution_count": 39,
     "metadata": {},
     "output_type": "execute_result"
    }
   ],
   "source": [
    "company.nunique()"
   ]
  },
  {
   "cell_type": "markdown",
   "id": "9cc4ada8",
   "metadata": {},
   "source": [
    "## 3. Data preprocessing & visualisation:\n",
    "## A. Drop the null values. "
   ]
  },
  {
   "cell_type": "code",
   "execution_count": 107,
   "id": "9878f025",
   "metadata": {},
   "outputs": [
    {
     "name": "stdout",
     "output_type": "stream",
     "text": [
      "<class 'pandas.core.frame.DataFrame'>\n",
      "Int64Index: 446 entries, 1 to 661\n",
      "Data columns (total 6 columns):\n",
      " #   Column          Non-Null Count  Dtype \n",
      "---  ------          --------------  ----- \n",
      " 0   Startup         446 non-null    object\n",
      " 1   Product         446 non-null    object\n",
      " 2   Funding         446 non-null    object\n",
      " 3   Event           446 non-null    object\n",
      " 4   Result          446 non-null    object\n",
      " 5   OperatingState  446 non-null    object\n",
      "dtypes: object(6)\n",
      "memory usage: 24.4+ KB\n"
     ]
    }
   ],
   "source": [
    "company.dropna(inplace=True)\n",
    "company.info()"
   ]
  },
  {
   "cell_type": "markdown",
   "id": "209eda9c",
   "metadata": {},
   "source": [
    "### Question 3. B.  Convert the ‘Funding’ features to a numerical value."
   ]
  },
  {
   "cell_type": "code",
   "execution_count": 108,
   "id": "9b772e32",
   "metadata": {},
   "outputs": [],
   "source": [
    "company.loc[:,'Funds_in_million'] = company['Funding'].apply(lambda x: float(x[1:-1])/1000 if x[-1] == 'K' else (float(x[1:-1])*1000 if x[-1] == 'B' else float(x[1:-1])))"
   ]
  },
  {
   "cell_type": "code",
   "execution_count": 109,
   "id": "f6df295a",
   "metadata": {},
   "outputs": [
    {
     "data": {
      "text/html": [
       "<div>\n",
       "<style scoped>\n",
       "    .dataframe tbody tr th:only-of-type {\n",
       "        vertical-align: middle;\n",
       "    }\n",
       "\n",
       "    .dataframe tbody tr th {\n",
       "        vertical-align: top;\n",
       "    }\n",
       "\n",
       "    .dataframe thead th {\n",
       "        text-align: right;\n",
       "    }\n",
       "</style>\n",
       "<table border=\"1\" class=\"dataframe\">\n",
       "  <thead>\n",
       "    <tr style=\"text-align: right;\">\n",
       "      <th></th>\n",
       "      <th>Startup</th>\n",
       "      <th>Product</th>\n",
       "      <th>Funding</th>\n",
       "      <th>Event</th>\n",
       "      <th>Result</th>\n",
       "      <th>OperatingState</th>\n",
       "      <th>Funds_in_million</th>\n",
       "    </tr>\n",
       "  </thead>\n",
       "  <tbody>\n",
       "    <tr>\n",
       "      <th>1</th>\n",
       "      <td>3DLT</td>\n",
       "      <td>3dlt.com</td>\n",
       "      <td>$630K</td>\n",
       "      <td>Disrupt NYC 2013</td>\n",
       "      <td>Contestant</td>\n",
       "      <td>Closed</td>\n",
       "      <td>0.63</td>\n",
       "    </tr>\n",
       "    <tr>\n",
       "      <th>3</th>\n",
       "      <td>3Dprintler</td>\n",
       "      <td>3dprintler.com</td>\n",
       "      <td>$1M</td>\n",
       "      <td>Disrupt NY 2016</td>\n",
       "      <td>Audience choice</td>\n",
       "      <td>Operating</td>\n",
       "      <td>1.00</td>\n",
       "    </tr>\n",
       "    <tr>\n",
       "      <th>5</th>\n",
       "      <td>5to1</td>\n",
       "      <td>5to1.com</td>\n",
       "      <td>$19.3M</td>\n",
       "      <td>TC50 2009</td>\n",
       "      <td>Contestant</td>\n",
       "      <td>Acquired</td>\n",
       "      <td>19.30</td>\n",
       "    </tr>\n",
       "    <tr>\n",
       "      <th>6</th>\n",
       "      <td>8 Securities</td>\n",
       "      <td>8securities.com</td>\n",
       "      <td>$29M</td>\n",
       "      <td>Disrupt Beijing 2011</td>\n",
       "      <td>Finalist</td>\n",
       "      <td>Operating</td>\n",
       "      <td>29.00</td>\n",
       "    </tr>\n",
       "    <tr>\n",
       "      <th>10</th>\n",
       "      <td>AdhereTech</td>\n",
       "      <td>adheretech.com</td>\n",
       "      <td>$1.8M</td>\n",
       "      <td>Hardware Battlefield 2014</td>\n",
       "      <td>Contestant</td>\n",
       "      <td>Operating</td>\n",
       "      <td>1.80</td>\n",
       "    </tr>\n",
       "  </tbody>\n",
       "</table>\n",
       "</div>"
      ],
      "text/plain": [
       "         Startup          Product Funding                      Event  \\\n",
       "1           3DLT         3dlt.com   $630K           Disrupt NYC 2013   \n",
       "3     3Dprintler   3dprintler.com     $1M            Disrupt NY 2016   \n",
       "5           5to1         5to1.com  $19.3M                  TC50 2009   \n",
       "6   8 Securities  8securities.com    $29M       Disrupt Beijing 2011   \n",
       "10    AdhereTech   adheretech.com   $1.8M  Hardware Battlefield 2014   \n",
       "\n",
       "             Result OperatingState  Funds_in_million  \n",
       "1        Contestant         Closed              0.63  \n",
       "3   Audience choice      Operating              1.00  \n",
       "5        Contestant       Acquired             19.30  \n",
       "6          Finalist      Operating             29.00  \n",
       "10       Contestant      Operating              1.80  "
      ]
     },
     "execution_count": 109,
     "metadata": {},
     "output_type": "execute_result"
    }
   ],
   "source": [
    "company.head()"
   ]
  },
  {
   "cell_type": "code",
   "execution_count": 110,
   "id": "348a2823",
   "metadata": {},
   "outputs": [
    {
     "data": {
      "text/html": [
       "<div>\n",
       "<style scoped>\n",
       "    .dataframe tbody tr th:only-of-type {\n",
       "        vertical-align: middle;\n",
       "    }\n",
       "\n",
       "    .dataframe tbody tr th {\n",
       "        vertical-align: top;\n",
       "    }\n",
       "\n",
       "    .dataframe thead th {\n",
       "        text-align: right;\n",
       "    }\n",
       "</style>\n",
       "<table border=\"1\" class=\"dataframe\">\n",
       "  <thead>\n",
       "    <tr style=\"text-align: right;\">\n",
       "      <th></th>\n",
       "      <th>Funds_in_million</th>\n",
       "    </tr>\n",
       "  </thead>\n",
       "  <tbody>\n",
       "    <tr>\n",
       "      <th>count</th>\n",
       "      <td>446.000000</td>\n",
       "    </tr>\n",
       "    <tr>\n",
       "      <th>mean</th>\n",
       "      <td>17.241489</td>\n",
       "    </tr>\n",
       "    <tr>\n",
       "      <th>std</th>\n",
       "      <td>90.483710</td>\n",
       "    </tr>\n",
       "    <tr>\n",
       "      <th>min</th>\n",
       "      <td>0.005000</td>\n",
       "    </tr>\n",
       "    <tr>\n",
       "      <th>25%</th>\n",
       "      <td>0.745250</td>\n",
       "    </tr>\n",
       "    <tr>\n",
       "      <th>50%</th>\n",
       "      <td>2.200000</td>\n",
       "    </tr>\n",
       "    <tr>\n",
       "      <th>75%</th>\n",
       "      <td>9.475000</td>\n",
       "    </tr>\n",
       "    <tr>\n",
       "      <th>max</th>\n",
       "      <td>1700.000000</td>\n",
       "    </tr>\n",
       "  </tbody>\n",
       "</table>\n",
       "</div>"
      ],
      "text/plain": [
       "       Funds_in_million\n",
       "count        446.000000\n",
       "mean          17.241489\n",
       "std           90.483710\n",
       "min            0.005000\n",
       "25%            0.745250\n",
       "50%            2.200000\n",
       "75%            9.475000\n",
       "max         1700.000000"
      ]
     },
     "execution_count": 110,
     "metadata": {},
     "output_type": "execute_result"
    }
   ],
   "source": [
    "company.describe()"
   ]
  },
  {
   "cell_type": "code",
   "execution_count": null,
   "id": "91e630c6",
   "metadata": {},
   "outputs": [],
   "source": []
  },
  {
   "cell_type": "markdown",
   "id": "d29e0729",
   "metadata": {},
   "source": [
    "### Q 3\n",
    "####  C. Plot box plot for funds in million.\n",
    "#### D. Check the number of outliers greater than the upper fence"
   ]
  },
  {
   "cell_type": "code",
   "execution_count": 50,
   "id": "165ff9cc",
   "metadata": {
    "collapsed": true
   },
   "outputs": [
    {
     "data": {
      "text/plain": [
       "<function matplotlib.pyplot.show(close=None, block=None)>"
      ]
     },
     "execution_count": 50,
     "metadata": {},
     "output_type": "execute_result"
    },
    {
     "data": {
      "image/png": "[encoded data removed]",
      "text/plain": [
       "<Figure size 640x480 with 1 Axes>"
      ]
     },
     "metadata": {},
     "output_type": "display_data"
    }
   ],
   "source": [
    "sns.boxplot(data=company, x='Funds_in_million')\n",
    "plt.title('Funds for Companies')\n",
    "plt.xlabel('Funds in Million')\n",
    "plt.ylabel('Amount')\n",
    "plt.show"
   ]
  },
  {
   "cell_type": "code",
   "execution_count": 111,
   "id": "d3e4c9fd",
   "metadata": {
    "collapsed": true
   },
   "outputs": [
    {
     "data": {
      "application/vnd.plotly.v1+json": {
       "config": {
        "plotlyServerURL": "https://plot.ly"
       },
       "data": [
        {
         "alignmentgroup": "True",
         "hovertemplate": "Funds_in_million=%{x}<extra></extra>",
         "legendgroup": "",
         "marker": {
          "color": "#636efa"
         },
         "name": "",
         "notched": false,
         "offsetgroup": "",
         "orientation": "h",
         "showlegend": false,
         "type": "box",
         "x": [
          0.63,
          1,
          19.3,
          29,
          1.8,
          1,
          1,
          0.75,
          0.0179,
          11.6,
          0.9292,
          12.2,
          1.9,
          4,
          3,
          0.225,
          24,
          0.746,
          0.6,
          7.1,
          4.5,
          50.9,
          8.3,
          4,
          12.3,
          1,
          0.19,
          40,
          0.52,
          2.9,
          0.32,
          1.7,
          0.02,
          205,
          16.5,
          2.8,
          0.125,
          0.35,
          20.8,
          0.675,
          6.5,
          2,
          0.118,
          4,
          20.5,
          7.2,
          2.3,
          0.212,
          7,
          8.1,
          8.5,
          0.325,
          0.02,
          0.15,
          5,
          0.06,
          8.8,
          0.12,
          2,
          2.3,
          3.1,
          5.5,
          4.5,
          2.2,
          0.496,
          1.4,
          0.35,
          32.5,
          19,
          0.75,
          0.475,
          182.1,
          6.7,
          0.848,
          2,
          1.3,
          2,
          12,
          2.6,
          0.4115,
          0.925,
          8.1,
          35.4,
          3,
          38,
          37.1,
          6.8,
          72,
          64,
          12.5,
          0.9,
          0.1,
          7.3,
          0.1,
          1.3,
          0.983,
          9.7,
          4,
          5.4,
          0.16,
          0.3,
          0.02,
          1700,
          10.1,
          0.485,
          8,
          3,
          3,
          4.3,
          0.12,
          10,
          34.6,
          1,
          16.3,
          5,
          2.4,
          0.65,
          35.5,
          15.4,
          18.2,
          0.1,
          30.1,
          26,
          1.2,
          2.3,
          0.7906,
          0.06,
          66,
          6.5,
          28.3,
          6.4,
          8.2,
          1.7,
          0.005,
          10,
          0.3105,
          11.3,
          3.8,
          0.7,
          12.5,
          103,
          1.2,
          1.9,
          0.3346,
          25.9,
          0.7559,
          36.5,
          1,
          1.4,
          1.7,
          14.2,
          0.5,
          0.1915,
          44.7,
          0.5661,
          0.3,
          6.3,
          24.2,
          10.7,
          1.3,
          22,
          12,
          5,
          4.5,
          1.2,
          7.2,
          12.5,
          1.1,
          3.2,
          0.15,
          0.195,
          1,
          16.3,
          14.1,
          0.5,
          18.2,
          0.05,
          0.745,
          2,
          0.457,
          3,
          0.355,
          0.6962999999999999,
          122.4,
          0.42160000000000003,
          1,
          1.3,
          34.9,
          1.2,
          67.8,
          3.8,
          11.7,
          166.1,
          10,
          1.6,
          1.6,
          4.4,
          1.3,
          1.9,
          1.8,
          1.3,
          3,
          0.717,
          5.8,
          4.1,
          42.1,
          2,
          1,
          69,
          0.05,
          10.6,
          2.2,
          65.1,
          1.3,
          2,
          2,
          0.875,
          6.7,
          2.3,
          0.25,
          0.35,
          25.1,
          0.635,
          3.2,
          0.3,
          9.2,
          1.1,
          0.8,
          7.3,
          9.4,
          31.8,
          3,
          0.9,
          2.6,
          4,
          1.2,
          3.3,
          9.5,
          3.1,
          3.5,
          1.2,
          0.05,
          0.275,
          3.5,
          0.1,
          1.9,
          2.2,
          2.8,
          13.2,
          0.275,
          1.4,
          10.7,
          0.1,
          3.3,
          1.3,
          0.5,
          1.2,
          12.8,
          5.3,
          1,
          37,
          3.9,
          0.6514,
          38.5,
          25.5,
          3.8,
          0.892,
          24,
          3.4,
          7.2,
          1.2,
          2.2,
          1.5,
          0.52,
          0.0795,
          0.156,
          0.05,
          4.8,
          0.755,
          0.525,
          18.5,
          3.5,
          0.5,
          1.1,
          2.2,
          1.5,
          278,
          20.5,
          0.5,
          3.6,
          1.4,
          24,
          1.7,
          2.8,
          63,
          2.2,
          0.12,
          0.948,
          0.15,
          10.5,
          3.5,
          0.02,
          7.4,
          6,
          0.020300000000000002,
          0.1,
          0.765,
          0.145,
          0.02,
          7,
          5,
          25,
          1.2,
          0.956,
          0.25,
          3,
          7.7,
          1.5,
          160,
          0.8,
          1.4,
          0.59,
          2,
          6,
          3.4,
          0.1,
          0.8553999999999999,
          0.165,
          0.15,
          16.2,
          18,
          3.8,
          4.1,
          1.1,
          1.4,
          0.35,
          6,
          1.5,
          0.44,
          0.6844,
          0.1298,
          0.118,
          0.7,
          3.5,
          0.02,
          2.8,
          18,
          1,
          2.3,
          2.6,
          0.482,
          1,
          0.2,
          5,
          2.3,
          1.3,
          0.6,
          2,
          2.1,
          0.12,
          0.023,
          1.5,
          2.4,
          0.6,
          5.8,
          40,
          1.8,
          0.5,
          0.485,
          0.863,
          15.6,
          47.4,
          0.32380000000000003,
          0.6,
          5.1,
          24.5,
          1,
          0.35,
          0.3,
          0.65,
          5.3,
          0.532,
          4.2,
          6.3,
          1.5,
          1.9,
          0.28,
          9.8,
          16,
          25,
          0.093,
          0.088,
          10.3,
          13.1,
          5.3,
          332.4,
          7.8,
          14.5,
          3,
          1,
          35,
          0.5,
          2,
          168.8,
          2.8,
          1.6,
          1.1,
          0.8,
          0.8302,
          28,
          12,
          1,
          6.5,
          0.026699999999999998,
          4.5,
          2.3,
          0.055,
          7.1,
          30.8,
          10,
          0.275,
          0.0857,
          1.4,
          2.1,
          1,
          2.5,
          2,
          0.05,
          12.2,
          17.4,
          15.8,
          0.028,
          41.8,
          142,
          10,
          0.9,
          117.8,
          26,
          28,
          62.1,
          583.6,
          8,
          1,
          223,
          3.4,
          31.5
         ],
         "x0": " ",
         "xaxis": "x",
         "y0": " ",
         "yaxis": "y"
        }
       ],
       "layout": {
        "boxmode": "group",
        "legend": {
         "tracegroupgap": 0
        },
        "margin": {
         "t": 60
        },
        "template": {
         "data": {
          "bar": [
           {
            "error_x": {
             "color": "#2a3f5f"
            },
            "error_y": {
             "color": "#2a3f5f"
            },
            "marker": {
             "line": {
              "color": "#E5ECF6",
              "width": 0.5
             },
             "pattern": {
              "fillmode": "overlay",
              "size": 10,
              "solidity": 0.2
             }
            },
            "type": "bar"
           }
          ],
          "barpolar": [
           {
            "marker": {
             "line": {
              "color": "#E5ECF6",
              "width": 0.5
             },
             "pattern": {
              "fillmode": "overlay",
              "size": 10,
              "solidity": 0.2
             }
            },
            "type": "barpolar"
           }
          ],
          "carpet": [
           {
            "aaxis": {
             "endlinecolor": "#2a3f5f",
             "gridcolor": "white",
             "linecolor": "white",
             "minorgridcolor": "white",
             "startlinecolor": "#2a3f5f"
            },
            "baxis": {
             "endlinecolor": "#2a3f5f",
             "gridcolor": "white",
             "linecolor": "white",
             "minorgridcolor": "white",
             "startlinecolor": "#2a3f5f"
            },
            "type": "carpet"
           }
          ],
          "choropleth": [
           {
            "colorbar": {
             "outlinewidth": 0,
             "ticks": ""
            },
            "type": "choropleth"
           }
          ],
          "contour": [
           {
            "colorbar": {
             "outlinewidth": 0,
             "ticks": ""
            },
            "colorscale": [
             [
              0,
              "#0d0887"
             ],
             [
              0.1111111111111111,
              "#46039f"
             ],
             [
              0.2222222222222222,
              "#7201a8"
             ],
             [
              0.3333333333333333,
              "#9c179e"
             ],
             [
              0.4444444444444444,
              "#bd3786"
             ],
             [
              0.5555555555555556,
              "#d8576b"
             ],
             [
              0.6666666666666666,
              "#ed7953"
             ],
             [
              0.7777777777777778,
              "#fb9f3a"
             ],
             [
              0.8888888888888888,
              "#fdca26"
             ],
             [
              1,
              "#f0f921"
             ]
            ],
            "type": "contour"
           }
          ],
          "contourcarpet": [
           {
            "colorbar": {
             "outlinewidth": 0,
             "ticks": ""
            },
            "type": "contourcarpet"
           }
          ],
          "heatmap": [
           {
            "colorbar": {
             "outlinewidth": 0,
             "ticks": ""
            },
            "colorscale": [
             [
              0,
              "#0d0887"
             ],
             [
              0.1111111111111111,
              "#46039f"
             ],
             [
              0.2222222222222222,
              "#7201a8"
             ],
             [
              0.3333333333333333,
              "#9c179e"
             ],
             [
              0.4444444444444444,
              "#bd3786"
             ],
             [
              0.5555555555555556,
              "#d8576b"
             ],
             [
              0.6666666666666666,
              "#ed7953"
             ],
             [
              0.7777777777777778,
              "#fb9f3a"
             ],
             [
              0.8888888888888888,
              "#fdca26"
             ],
             [
              1,
              "#f0f921"
             ]
            ],
            "type": "heatmap"
           }
          ],
          "heatmapgl": [
           {
            "colorbar": {
             "outlinewidth": 0,
             "ticks": ""
            },
            "colorscale": [
             [
              0,
              "#0d0887"
             ],
             [
              0.1111111111111111,
              "#46039f"
             ],
             [
              0.2222222222222222,
              "#7201a8"
             ],
             [
              0.3333333333333333,
              "#9c179e"
             ],
             [
              0.4444444444444444,
              "#bd3786"
             ],
             [
              0.5555555555555556,
              "#d8576b"
             ],
             [
              0.6666666666666666,
              "#ed7953"
             ],
             [
              0.7777777777777778,
              "#fb9f3a"
             ],
             [
              0.8888888888888888,
              "#fdca26"
             ],
             [
              1,
              "#f0f921"
             ]
            ],
            "type": "heatmapgl"
           }
          ],
          "histogram": [
           {
            "marker": {
             "pattern": {
              "fillmode": "overlay",
              "size": 10,
              "solidity": 0.2
             }
            },
            "type": "histogram"
           }
          ],
          "histogram2d": [
           {
            "colorbar": {
             "outlinewidth": 0,
             "ticks": ""
            },
            "colorscale": [
             [
              0,
              "#0d0887"
             ],
             [
              0.1111111111111111,
              "#46039f"
             ],
             [
              0.2222222222222222,
              "#7201a8"
             ],
             [
              0.3333333333333333,
              "#9c179e"
             ],
             [
              0.4444444444444444,
              "#bd3786"
             ],
             [
              0.5555555555555556,
              "#d8576b"
             ],
             [
              0.6666666666666666,
              "#ed7953"
             ],
             [
              0.7777777777777778,
              "#fb9f3a"
             ],
             [
              0.8888888888888888,
              "#fdca26"
             ],
             [
              1,
              "#f0f921"
             ]
            ],
            "type": "histogram2d"
           }
          ],
          "histogram2dcontour": [
           {
            "colorbar": {
             "outlinewidth": 0,
             "ticks": ""
            },
            "colorscale": [
             [
              0,
              "#0d0887"
             ],
             [
              0.1111111111111111,
              "#46039f"
             ],
             [
              0.2222222222222222,
              "#7201a8"
             ],
             [
              0.3333333333333333,
              "#9c179e"
             ],
             [
              0.4444444444444444,
              "#bd3786"
             ],
             [
              0.5555555555555556,
              "#d8576b"
             ],
             [
              0.6666666666666666,
              "#ed7953"
             ],
             [
              0.7777777777777778,
              "#fb9f3a"
             ],
             [
              0.8888888888888888,
              "#fdca26"
             ],
             [
              1,
              "#f0f921"
             ]
            ],
            "type": "histogram2dcontour"
           }
          ],
          "mesh3d": [
           {
            "colorbar": {
             "outlinewidth": 0,
             "ticks": ""
            },
            "type": "mesh3d"
           }
          ],
          "parcoords": [
           {
            "line": {
             "colorbar": {
              "outlinewidth": 0,
              "ticks": ""
             }
            },
            "type": "parcoords"
           }
          ],
          "pie": [
           {
            "automargin": true,
            "type": "pie"
           }
          ],
          "scatter": [
           {
            "fillpattern": {
             "fillmode": "overlay",
             "size": 10,
             "solidity": 0.2
            },
            "type": "scatter"
           }
          ],
          "scatter3d": [
           {
            "line": {
             "colorbar": {
              "outlinewidth": 0,
              "ticks": ""
             }
            },
            "marker": {
             "colorbar": {
              "outlinewidth": 0,
              "ticks": ""
             }
            },
            "type": "scatter3d"
           }
          ],
          "scattercarpet": [
           {
            "marker": {
             "colorbar": {
              "outlinewidth": 0,
              "ticks": ""
             }
            },
            "type": "scattercarpet"
           }
          ],
          "scattergeo": [
           {
            "marker": {
             "colorbar": {
              "outlinewidth": 0,
              "ticks": ""
             }
            },
            "type": "scattergeo"
           }
          ],
          "scattergl": [
           {
            "marker": {
             "colorbar": {
              "outlinewidth": 0,
              "ticks": ""
             }
            },
            "type": "scattergl"
           }
          ],
          "scattermapbox": [
           {
            "marker": {
             "colorbar": {
              "outlinewidth": 0,
              "ticks": ""
             }
            },
            "type": "scattermapbox"
           }
          ],
          "scatterpolar": [
           {
            "marker": {
             "colorbar": {
              "outlinewidth": 0,
              "ticks": ""
             }
            },
            "type": "scatterpolar"
           }
          ],
          "scatterpolargl": [
           {
            "marker": {
             "colorbar": {
              "outlinewidth": 0,
              "ticks": ""
             }
            },
            "type": "scatterpolargl"
           }
          ],
          "scatterternary": [
           {
            "marker": {
             "colorbar": {
              "outlinewidth": 0,
              "ticks": ""
             }
            },
            "type": "scatterternary"
           }
          ],
          "surface": [
           {
            "colorbar": {
             "outlinewidth": 0,
             "ticks": ""
            },
            "colorscale": [
             [
              0,
              "#0d0887"
             ],
             [
              0.1111111111111111,
              "#46039f"
             ],
             [
              0.2222222222222222,
              "#7201a8"
             ],
             [
              0.3333333333333333,
              "#9c179e"
             ],
             [
              0.4444444444444444,
              "#bd3786"
             ],
             [
              0.5555555555555556,
              "#d8576b"
             ],
             [
              0.6666666666666666,
              "#ed7953"
             ],
             [
              0.7777777777777778,
              "#fb9f3a"
             ],
             [
              0.8888888888888888,
              "#fdca26"
             ],
             [
              1,
              "#f0f921"
             ]
            ],
            "type": "surface"
           }
          ],
          "table": [
           {
            "cells": {
             "fill": {
              "color": "#EBF0F8"
             },
             "line": {
              "color": "white"
             }
            },
            "header": {
             "fill": {
              "color": "#C8D4E3"
             },
             "line": {
              "color": "white"
             }
            },
            "type": "table"
           }
          ]
         },
         "layout": {
          "annotationdefaults": {
           "arrowcolor": "#2a3f5f",
           "arrowhead": 0,
           "arrowwidth": 1
          },
          "autotypenumbers": "strict",
          "coloraxis": {
           "colorbar": {
            "outlinewidth": 0,
            "ticks": ""
           }
          },
          "colorscale": {
           "diverging": [
            [
             0,
             "#8e0152"
            ],
            [
             0.1,
             "#c51b7d"
            ],
            [
             0.2,
             "#de77ae"
            ],
            [
             0.3,
             "#f1b6da"
            ],
            [
             0.4,
             "#fde0ef"
            ],
            [
             0.5,
             "#f7f7f7"
            ],
            [
             0.6,
             "#e6f5d0"
            ],
            [
             0.7,
             "#b8e186"
            ],
            [
             0.8,
             "#7fbc41"
            ],
            [
             0.9,
             "#4d9221"
            ],
            [
             1,
             "#276419"
            ]
           ],
           "sequential": [
            [
             0,
             "#0d0887"
            ],
            [
             0.1111111111111111,
             "#46039f"
            ],
            [
             0.2222222222222222,
             "#7201a8"
            ],
            [
             0.3333333333333333,
             "#9c179e"
            ],
            [
             0.4444444444444444,
             "#bd3786"
            ],
            [
             0.5555555555555556,
             "#d8576b"
            ],
            [
             0.6666666666666666,
             "#ed7953"
            ],
            [
             0.7777777777777778,
             "#fb9f3a"
            ],
            [
             0.8888888888888888,
             "#fdca26"
            ],
            [
             1,
             "#f0f921"
            ]
           ],
           "sequentialminus": [
            [
             0,
             "#0d0887"
            ],
            [
             0.1111111111111111,
             "#46039f"
            ],
            [
             0.2222222222222222,
             "#7201a8"
            ],
            [
             0.3333333333333333,
             "#9c179e"
            ],
            [
             0.4444444444444444,
             "#bd3786"
            ],
            [
             0.5555555555555556,
             "#d8576b"
            ],
            [
             0.6666666666666666,
             "#ed7953"
            ],
            [
             0.7777777777777778,
             "#fb9f3a"
            ],
            [
             0.8888888888888888,
             "#fdca26"
            ],
            [
             1,
             "#f0f921"
            ]
           ]
          },
          "colorway": [
           "#636efa",
           "#EF553B",
           "#00cc96",
           "#ab63fa",
           "#FFA15A",
           "#19d3f3",
           "#FF6692",
           "#B6E880",
           "#FF97FF",
           "#FECB52"
          ],
          "font": {
           "color": "#2a3f5f"
          },
          "geo": {
           "bgcolor": "white",
           "lakecolor": "white",
           "landcolor": "#E5ECF6",
           "showlakes": true,
           "showland": true,
           "subunitcolor": "white"
          },
          "hoverlabel": {
           "align": "left"
          },
          "hovermode": "closest",
          "mapbox": {
           "style": "light"
          },
          "paper_bgcolor": "white",
          "plot_bgcolor": "#E5ECF6",
          "polar": {
           "angularaxis": {
            "gridcolor": "white",
            "linecolor": "white",
            "ticks": ""
           },
           "bgcolor": "#E5ECF6",
           "radialaxis": {
            "gridcolor": "white",
            "linecolor": "white",
            "ticks": ""
           }
          },
          "scene": {
           "xaxis": {
            "backgroundcolor": "#E5ECF6",
            "gridcolor": "white",
            "gridwidth": 2,
            "linecolor": "white",
            "showbackground": true,
            "ticks": "",
            "zerolinecolor": "white"
           },
           "yaxis": {
            "backgroundcolor": "#E5ECF6",
            "gridcolor": "white",
            "gridwidth": 2,
            "linecolor": "white",
            "showbackground": true,
            "ticks": "",
            "zerolinecolor": "white"
           },
           "zaxis": {
            "backgroundcolor": "#E5ECF6",
            "gridcolor": "white",
            "gridwidth": 2,
            "linecolor": "white",
            "showbackground": true,
            "ticks": "",
            "zerolinecolor": "white"
           }
          },
          "shapedefaults": {
           "line": {
            "color": "#2a3f5f"
           }
          },
          "ternary": {
           "aaxis": {
            "gridcolor": "white",
            "linecolor": "white",
            "ticks": ""
           },
           "baxis": {
            "gridcolor": "white",
            "linecolor": "white",
            "ticks": ""
           },
           "bgcolor": "#E5ECF6",
           "caxis": {
            "gridcolor": "white",
            "linecolor": "white",
            "ticks": ""
           }
          },
          "title": {
           "x": 0.05
          },
          "xaxis": {
           "automargin": true,
           "gridcolor": "white",
           "linecolor": "white",
           "ticks": "",
           "title": {
            "standoff": 15
           },
           "zerolinecolor": "white",
           "zerolinewidth": 2
          },
          "yaxis": {
           "automargin": true,
           "gridcolor": "white",
           "linecolor": "white",
           "ticks": "",
           "title": {
            "standoff": 15
           },
           "zerolinecolor": "white",
           "zerolinewidth": 2
          }
         }
        },
        "xaxis": {
         "anchor": "y",
         "domain": [
          0,
          1
         ],
         "title": {
          "text": "Funds_in_million"
         }
        },
        "yaxis": {
         "anchor": "x",
         "domain": [
          0,
          1
         ]
        }
       }
      },
      "text/html": [
       "<div>                            <div id=\"a79e5a32-3104-4591-8a6f-9b1afb700f6a\" class=\"plotly-graph-div\" style=\"height:525px; width:100%;\"></div>            <script type=\"text/javascript\">                require([\"plotly\"], function(Plotly) {                    window.PLOTLYENV=window.PLOTLYENV || {};                                    if (document.getElementById(\"a79e5a32-3104-4591-8a6f-9b1afb700f6a\")) {                    Plotly.newPlot(                        \"a79e5a32-3104-4591-8a6f-9b1afb700f6a\",                        [{\"alignmentgroup\":\"True\",\"hovertemplate\":\"Funds_in_million=%{x}<extra></extra>\",\"legendgroup\":\"\",\"marker\":{\"color\":\"#636efa\"},\"name\":\"\",\"notched\":false,\"offsetgroup\":\"\",\"orientation\":\"h\",\"showlegend\":false,\"x\":[0.63,1.0,19.3,29.0,1.8,1.0,1.0,0.75,0.0179,11.6,0.9292,12.2,1.9,4.0,3.0,0.225,24.0,0.746,0.6,7.1,4.5,50.9,8.3,4.0,12.3,1.0,0.19,40.0,0.52,2.9,0.32,1.7,0.02,205.0,16.5,2.8,0.125,0.35,20.8,0.675,6.5,2.0,0.118,4.0,20.5,7.2,2.3,0.212,7.0,8.1,8.5,0.325,0.02,0.15,5.0,0.06,8.8,0.12,2.0,2.3,3.1,5.5,4.5,2.2,0.496,1.4,0.35,32.5,19.0,0.75,0.475,182.1,6.7,0.848,2.0,1.3,2.0,12.0,2.6,0.4115,0.925,8.1,35.4,3.0,38.0,37.1,6.8,72.0,64.0,12.5,0.9,0.1,7.3,0.1,1.3,0.983,9.7,4.0,5.4,0.16,0.3,0.02,1700.0,10.1,0.485,8.0,3.0,3.0,4.3,0.12,10.0,34.6,1.0,16.3,5.0,2.4,0.65,35.5,15.4,18.2,0.1,30.1,26.0,1.2,2.3,0.7906,0.06,66.0,6.5,28.3,6.4,8.2,1.7,0.005,10.0,0.3105,11.3,3.8,0.7,12.5,103.0,1.2,1.9,0.3346,25.9,0.7559,36.5,1.0,1.4,1.7,14.2,0.5,0.1915,44.7,0.5661,0.3,6.3,24.2,10.7,1.3,22.0,12.0,5.0,4.5,1.2,7.2,12.5,1.1,3.2,0.15,0.195,1.0,16.3,14.1,0.5,18.2,0.05,0.745,2.0,0.457,3.0,0.355,0.6962999999999999,122.4,0.42160000000000003,1.0,1.3,34.9,1.2,67.8,3.8,11.7,166.1,10.0,1.6,1.6,4.4,1.3,1.9,1.8,1.3,3.0,0.717,5.8,4.1,42.1,2.0,1.0,69.0,0.05,10.6,2.2,65.1,1.3,2.0,2.0,0.875,6.7,2.3,0.25,0.35,25.1,0.635,3.2,0.3,9.2,1.1,0.8,7.3,9.4,31.8,3.0,0.9,2.6,4.0,1.2,3.3,9.5,3.1,3.5,1.2,0.05,0.275,3.5,0.1,1.9,2.2,2.8,13.2,0.275,1.4,10.7,0.1,3.3,1.3,0.5,1.2,12.8,5.3,1.0,37.0,3.9,0.6514,38.5,25.5,3.8,0.892,24.0,3.4,7.2,1.2,2.2,1.5,0.52,0.0795,0.156,0.05,4.8,0.755,0.525,18.5,3.5,0.5,1.1,2.2,1.5,278.0,20.5,0.5,3.6,1.4,24.0,1.7,2.8,63.0,2.2,0.12,0.948,0.15,10.5,3.5,0.02,7.4,6.0,0.020300000000000002,0.1,0.765,0.145,0.02,7.0,5.0,25.0,1.2,0.956,0.25,3.0,7.7,1.5,160.0,0.8,1.4,0.59,2.0,6.0,3.4,0.1,0.8553999999999999,0.165,0.15,16.2,18.0,3.8,4.1,1.1,1.4,0.35,6.0,1.5,0.44,0.6844,0.1298,0.118,0.7,3.5,0.02,2.8,18.0,1.0,2.3,2.6,0.482,1.0,0.2,5.0,2.3,1.3,0.6,2.0,2.1,0.12,0.023,1.5,2.4,0.6,5.8,40.0,1.8,0.5,0.485,0.863,15.6,47.4,0.32380000000000003,0.6,5.1,24.5,1.0,0.35,0.3,0.65,5.3,0.532,4.2,6.3,1.5,1.9,0.28,9.8,16.0,25.0,0.093,0.088,10.3,13.1,5.3,332.4,7.8,14.5,3.0,1.0,35.0,0.5,2.0,168.8,2.8,1.6,1.1,0.8,0.8302,28.0,12.0,1.0,6.5,0.026699999999999998,4.5,2.3,0.055,7.1,30.8,10.0,0.275,0.0857,1.4,2.1,1.0,2.5,2.0,0.05,12.2,17.4,15.8,0.028,41.8,142.0,10.0,0.9,117.8,26.0,28.0,62.1,583.6,8.0,1.0,223.0,3.4,31.5],\"x0\":\" \",\"xaxis\":\"x\",\"y0\":\" \",\"yaxis\":\"y\",\"type\":\"box\"}],                        {\"template\":{\"data\":{\"histogram2dcontour\":[{\"type\":\"histogram2dcontour\",\"colorbar\":{\"outlinewidth\":0,\"ticks\":\"\"},\"colorscale\":[[0.0,\"#0d0887\"],[0.1111111111111111,\"#46039f\"],[0.2222222222222222,\"#7201a8\"],[0.3333333333333333,\"#9c179e\"],[0.4444444444444444,\"#bd3786\"],[0.5555555555555556,\"#d8576b\"],[0.6666666666666666,\"#ed7953\"],[0.7777777777777778,\"#fb9f3a\"],[0.8888888888888888,\"#fdca26\"],[1.0,\"#f0f921\"]]}],\"choropleth\":[{\"type\":\"choropleth\",\"colorbar\":{\"outlinewidth\":0,\"ticks\":\"\"}}],\"histogram2d\":[{\"type\":\"histogram2d\",\"colorbar\":{\"outlinewidth\":0,\"ticks\":\"\"},\"colorscale\":[[0.0,\"#0d0887\"],[0.1111111111111111,\"#46039f\"],[0.2222222222222222,\"#7201a8\"],[0.3333333333333333,\"#9c179e\"],[0.4444444444444444,\"#bd3786\"],[0.5555555555555556,\"#d8576b\"],[0.6666666666666666,\"#ed7953\"],[0.7777777777777778,\"#fb9f3a\"],[0.8888888888888888,\"#fdca26\"],[1.0,\"#f0f921\"]]}],\"heatmap\":[{\"type\":\"heatmap\",\"colorbar\":{\"outlinewidth\":0,\"ticks\":\"\"},\"colorscale\":[[0.0,\"#0d0887\"],[0.1111111111111111,\"#46039f\"],[0.2222222222222222,\"#7201a8\"],[0.3333333333333333,\"#9c179e\"],[0.4444444444444444,\"#bd3786\"],[0.5555555555555556,\"#d8576b\"],[0.6666666666666666,\"#ed7953\"],[0.7777777777777778,\"#fb9f3a\"],[0.8888888888888888,\"#fdca26\"],[1.0,\"#f0f921\"]]}],\"heatmapgl\":[{\"type\":\"heatmapgl\",\"colorbar\":{\"outlinewidth\":0,\"ticks\":\"\"},\"colorscale\":[[0.0,\"#0d0887\"],[0.1111111111111111,\"#46039f\"],[0.2222222222222222,\"#7201a8\"],[0.3333333333333333,\"#9c179e\"],[0.4444444444444444,\"#bd3786\"],[0.5555555555555556,\"#d8576b\"],[0.6666666666666666,\"#ed7953\"],[0.7777777777777778,\"#fb9f3a\"],[0.8888888888888888,\"#fdca26\"],[1.0,\"#f0f921\"]]}],\"contourcarpet\":[{\"type\":\"contourcarpet\",\"colorbar\":{\"outlinewidth\":0,\"ticks\":\"\"}}],\"contour\":[{\"type\":\"contour\",\"colorbar\":{\"outlinewidth\":0,\"ticks\":\"\"},\"colorscale\":[[0.0,\"#0d0887\"],[0.1111111111111111,\"#46039f\"],[0.2222222222222222,\"#7201a8\"],[0.3333333333333333,\"#9c179e\"],[0.4444444444444444,\"#bd3786\"],[0.5555555555555556,\"#d8576b\"],[0.6666666666666666,\"#ed7953\"],[0.7777777777777778,\"#fb9f3a\"],[0.8888888888888888,\"#fdca26\"],[1.0,\"#f0f921\"]]}],\"surface\":[{\"type\":\"surface\",\"colorbar\":{\"outlinewidth\":0,\"ticks\":\"\"},\"colorscale\":[[0.0,\"#0d0887\"],[0.1111111111111111,\"#46039f\"],[0.2222222222222222,\"#7201a8\"],[0.3333333333333333,\"#9c179e\"],[0.4444444444444444,\"#bd3786\"],[0.5555555555555556,\"#d8576b\"],[0.6666666666666666,\"#ed7953\"],[0.7777777777777778,\"#fb9f3a\"],[0.8888888888888888,\"#fdca26\"],[1.0,\"#f0f921\"]]}],\"mesh3d\":[{\"type\":\"mesh3d\",\"colorbar\":{\"outlinewidth\":0,\"ticks\":\"\"}}],\"scatter\":[{\"fillpattern\":{\"fillmode\":\"overlay\",\"size\":10,\"solidity\":0.2},\"type\":\"scatter\"}],\"parcoords\":[{\"type\":\"parcoords\",\"line\":{\"colorbar\":{\"outlinewidth\":0,\"ticks\":\"\"}}}],\"scatterpolargl\":[{\"type\":\"scatterpolargl\",\"marker\":{\"colorbar\":{\"outlinewidth\":0,\"ticks\":\"\"}}}],\"bar\":[{\"error_x\":{\"color\":\"#2a3f5f\"},\"error_y\":{\"color\":\"#2a3f5f\"},\"marker\":{\"line\":{\"color\":\"#E5ECF6\",\"width\":0.5},\"pattern\":{\"fillmode\":\"overlay\",\"size\":10,\"solidity\":0.2}},\"type\":\"bar\"}],\"scattergeo\":[{\"type\":\"scattergeo\",\"marker\":{\"colorbar\":{\"outlinewidth\":0,\"ticks\":\"\"}}}],\"scatterpolar\":[{\"type\":\"scatterpolar\",\"marker\":{\"colorbar\":{\"outlinewidth\":0,\"ticks\":\"\"}}}],\"histogram\":[{\"marker\":{\"pattern\":{\"fillmode\":\"overlay\",\"size\":10,\"solidity\":0.2}},\"type\":\"histogram\"}],\"scattergl\":[{\"type\":\"scattergl\",\"marker\":{\"colorbar\":{\"outlinewidth\":0,\"ticks\":\"\"}}}],\"scatter3d\":[{\"type\":\"scatter3d\",\"line\":{\"colorbar\":{\"outlinewidth\":0,\"ticks\":\"\"}},\"marker\":{\"colorbar\":{\"outlinewidth\":0,\"ticks\":\"\"}}}],\"scattermapbox\":[{\"type\":\"scattermapbox\",\"marker\":{\"colorbar\":{\"outlinewidth\":0,\"ticks\":\"\"}}}],\"scatterternary\":[{\"type\":\"scatterternary\",\"marker\":{\"colorbar\":{\"outlinewidth\":0,\"ticks\":\"\"}}}],\"scattercarpet\":[{\"type\":\"scattercarpet\",\"marker\":{\"colorbar\":{\"outlinewidth\":0,\"ticks\":\"\"}}}],\"carpet\":[{\"aaxis\":{\"endlinecolor\":\"#2a3f5f\",\"gridcolor\":\"white\",\"linecolor\":\"white\",\"minorgridcolor\":\"white\",\"startlinecolor\":\"#2a3f5f\"},\"baxis\":{\"endlinecolor\":\"#2a3f5f\",\"gridcolor\":\"white\",\"linecolor\":\"white\",\"minorgridcolor\":\"white\",\"startlinecolor\":\"#2a3f5f\"},\"type\":\"carpet\"}],\"table\":[{\"cells\":{\"fill\":{\"color\":\"#EBF0F8\"},\"line\":{\"color\":\"white\"}},\"header\":{\"fill\":{\"color\":\"#C8D4E3\"},\"line\":{\"color\":\"white\"}},\"type\":\"table\"}],\"barpolar\":[{\"marker\":{\"line\":{\"color\":\"#E5ECF6\",\"width\":0.5},\"pattern\":{\"fillmode\":\"overlay\",\"size\":10,\"solidity\":0.2}},\"type\":\"barpolar\"}],\"pie\":[{\"automargin\":true,\"type\":\"pie\"}]},\"layout\":{\"autotypenumbers\":\"strict\",\"colorway\":[\"#636efa\",\"#EF553B\",\"#00cc96\",\"#ab63fa\",\"#FFA15A\",\"#19d3f3\",\"#FF6692\",\"#B6E880\",\"#FF97FF\",\"#FECB52\"],\"font\":{\"color\":\"#2a3f5f\"},\"hovermode\":\"closest\",\"hoverlabel\":{\"align\":\"left\"},\"paper_bgcolor\":\"white\",\"plot_bgcolor\":\"#E5ECF6\",\"polar\":{\"bgcolor\":\"#E5ECF6\",\"angularaxis\":{\"gridcolor\":\"white\",\"linecolor\":\"white\",\"ticks\":\"\"},\"radialaxis\":{\"gridcolor\":\"white\",\"linecolor\":\"white\",\"ticks\":\"\"}},\"ternary\":{\"bgcolor\":\"#E5ECF6\",\"aaxis\":{\"gridcolor\":\"white\",\"linecolor\":\"white\",\"ticks\":\"\"},\"baxis\":{\"gridcolor\":\"white\",\"linecolor\":\"white\",\"ticks\":\"\"},\"caxis\":{\"gridcolor\":\"white\",\"linecolor\":\"white\",\"ticks\":\"\"}},\"coloraxis\":{\"colorbar\":{\"outlinewidth\":0,\"ticks\":\"\"}},\"colorscale\":{\"sequential\":[[0.0,\"#0d0887\"],[0.1111111111111111,\"#46039f\"],[0.2222222222222222,\"#7201a8\"],[0.3333333333333333,\"#9c179e\"],[0.4444444444444444,\"#bd3786\"],[0.5555555555555556,\"#d8576b\"],[0.6666666666666666,\"#ed7953\"],[0.7777777777777778,\"#fb9f3a\"],[0.8888888888888888,\"#fdca26\"],[1.0,\"#f0f921\"]],\"sequentialminus\":[[0.0,\"#0d0887\"],[0.1111111111111111,\"#46039f\"],[0.2222222222222222,\"#7201a8\"],[0.3333333333333333,\"#9c179e\"],[0.4444444444444444,\"#bd3786\"],[0.5555555555555556,\"#d8576b\"],[0.6666666666666666,\"#ed7953\"],[0.7777777777777778,\"#fb9f3a\"],[0.8888888888888888,\"#fdca26\"],[1.0,\"#f0f921\"]],\"diverging\":[[0,\"#8e0152\"],[0.1,\"#c51b7d\"],[0.2,\"#de77ae\"],[0.3,\"#f1b6da\"],[0.4,\"#fde0ef\"],[0.5,\"#f7f7f7\"],[0.6,\"#e6f5d0\"],[0.7,\"#b8e186\"],[0.8,\"#7fbc41\"],[0.9,\"#4d9221\"],[1,\"#276419\"]]},\"xaxis\":{\"gridcolor\":\"white\",\"linecolor\":\"white\",\"ticks\":\"\",\"title\":{\"standoff\":15},\"zerolinecolor\":\"white\",\"automargin\":true,\"zerolinewidth\":2},\"yaxis\":{\"gridcolor\":\"white\",\"linecolor\":\"white\",\"ticks\":\"\",\"title\":{\"standoff\":15},\"zerolinecolor\":\"white\",\"automargin\":true,\"zerolinewidth\":2},\"scene\":{\"xaxis\":{\"backgroundcolor\":\"#E5ECF6\",\"gridcolor\":\"white\",\"linecolor\":\"white\",\"showbackground\":true,\"ticks\":\"\",\"zerolinecolor\":\"white\",\"gridwidth\":2},\"yaxis\":{\"backgroundcolor\":\"#E5ECF6\",\"gridcolor\":\"white\",\"linecolor\":\"white\",\"showbackground\":true,\"ticks\":\"\",\"zerolinecolor\":\"white\",\"gridwidth\":2},\"zaxis\":{\"backgroundcolor\":\"#E5ECF6\",\"gridcolor\":\"white\",\"linecolor\":\"white\",\"showbackground\":true,\"ticks\":\"\",\"zerolinecolor\":\"white\",\"gridwidth\":2}},\"shapedefaults\":{\"line\":{\"color\":\"#2a3f5f\"}},\"annotationdefaults\":{\"arrowcolor\":\"#2a3f5f\",\"arrowhead\":0,\"arrowwidth\":1},\"geo\":{\"bgcolor\":\"white\",\"landcolor\":\"#E5ECF6\",\"subunitcolor\":\"white\",\"showland\":true,\"showlakes\":true,\"lakecolor\":\"white\"},\"title\":{\"x\":0.05},\"mapbox\":{\"style\":\"light\"}}},\"xaxis\":{\"anchor\":\"y\",\"domain\":[0.0,1.0],\"title\":{\"text\":\"Funds_in_million\"}},\"yaxis\":{\"anchor\":\"x\",\"domain\":[0.0,1.0]},\"legend\":{\"tracegroupgap\":0},\"margin\":{\"t\":60},\"boxmode\":\"group\"},                        {\"responsive\": true}                    ).then(function(){\n",
       "                            \n",
       "var gd = document.getElementById('a79e5a32-3104-4591-8a6f-9b1afb700f6a');\n",
       "var x = new MutationObserver(function (mutations, observer) {{\n",
       "        var display = window.getComputedStyle(gd).display;\n",
       "        if (!display || display === 'none') {{\n",
       "            console.log([gd, 'removed!']);\n",
       "            Plotly.purge(gd);\n",
       "            observer.disconnect();\n",
       "        }}\n",
       "}});\n",
       "\n",
       "// Listen for the removal of the full notebook cells\n",
       "var notebookContainer = gd.closest('#notebook-container');\n",
       "if (notebookContainer) {{\n",
       "    x.observe(notebookContainer, {childList: true});\n",
       "}}\n",
       "\n",
       "// Listen for the clearing of the current output cell\n",
       "var outputEl = gd.closest('.output');\n",
       "if (outputEl) {{\n",
       "    x.observe(outputEl, {childList: true});\n",
       "}}\n",
       "\n",
       "                        })                };                });            </script>        </div>"
      ]
     },
     "metadata": {},
     "output_type": "display_data"
    }
   ],
   "source": [
    "import plotly.express as px\n",
    "px.box(company, x='Funds_in_million')  #IQR 1, and IQR 3 all can be find here."
   ]
  },
  {
   "cell_type": "code",
   "execution_count": 112,
   "id": "7774041f",
   "metadata": {},
   "outputs": [
    {
     "name": "stdout",
     "output_type": "stream",
     "text": [
      "0.74525\n",
      "9.475\n",
      "IQR: 8.72975\n"
     ]
    }
   ],
   "source": [
    "Q1= np.percentile(company['Funds_in_million'], 25)\n",
    "Q3= np.percentile(company['Funds_in_million'], 75)\n",
    "print(Q1)\n",
    "print(Q3)\n",
    "IQR = Q3- Q1\n",
    "print('IQR:', IQR)"
   ]
  },
  {
   "cell_type": "code",
   "execution_count": 85,
   "id": "880fc261",
   "metadata": {},
   "outputs": [
    {
     "name": "stdout",
     "output_type": "stream",
     "text": [
      "22.569625\n",
      "-12.349374999999998\n"
     ]
    }
   ],
   "source": [
    "upperfence= Q3+ 1.5*IQR\n",
    "print(upperfence)\n",
    "lowerfence = Q1- 1.5*IQR\n",
    "print(lowerfence)"
   ]
  },
  {
   "cell_type": "code",
   "execution_count": 114,
   "id": "aaf0508a",
   "metadata": {
    "collapsed": true
   },
   "outputs": [
    {
     "data": {
      "text/plain": [
       "[29.0,\n",
       " 24.0,\n",
       " 50.9,\n",
       " 40.0,\n",
       " 205.0,\n",
       " 32.5,\n",
       " 182.1,\n",
       " 35.4,\n",
       " 38.0,\n",
       " 37.1,\n",
       " 72.0,\n",
       " 64.0,\n",
       " 1700.0,\n",
       " 34.6,\n",
       " 35.5,\n",
       " 30.1,\n",
       " 26.0,\n",
       " 66.0,\n",
       " 28.3,\n",
       " 103.0,\n",
       " 25.9,\n",
       " 36.5,\n",
       " 44.7,\n",
       " 24.2,\n",
       " 122.4,\n",
       " 34.9,\n",
       " 67.8,\n",
       " 166.1,\n",
       " 42.1,\n",
       " 69.0,\n",
       " 65.1,\n",
       " 25.1,\n",
       " 31.8,\n",
       " 37.0,\n",
       " 38.5,\n",
       " 25.5,\n",
       " 24.0,\n",
       " 278.0,\n",
       " 24.0,\n",
       " 63.0,\n",
       " 25.0,\n",
       " 160.0,\n",
       " 40.0,\n",
       " 47.4,\n",
       " 24.5,\n",
       " 25.0,\n",
       " 332.4,\n",
       " 35.0,\n",
       " 168.8,\n",
       " 28.0,\n",
       " 30.8,\n",
       " 41.8,\n",
       " 142.0,\n",
       " 117.8,\n",
       " 26.0,\n",
       " 28.0,\n",
       " 62.1,\n",
       " 583.6,\n",
       " 223.0,\n",
       " 31.5]"
      ]
     },
     "execution_count": 114,
     "metadata": {},
     "output_type": "execute_result"
    }
   ],
   "source": [
    "outliers= [i for i in company['Funds_in_million'] if i>upperfence]\n",
    "outliers"
   ]
  },
  {
   "cell_type": "code",
   "execution_count": 113,
   "id": "f6fbdec0",
   "metadata": {},
   "outputs": [
    {
     "data": {
      "text/plain": [
       "60"
      ]
     },
     "execution_count": 113,
     "metadata": {},
     "output_type": "execute_result"
    }
   ],
   "source": [
    "Number_of_Upperfence_Outliers = len(outliers) #number of outliers the are greater than the upper fence\n",
    "Number_of_Upperfence_Outliers"
   ]
  },
  {
   "cell_type": "markdown",
   "id": "320a358b",
   "metadata": {},
   "source": [
    "#### Q3  E . Check frequency of the OperatingState features classes."
   ]
  },
  {
   "cell_type": "code",
   "execution_count": 97,
   "id": "972c7578",
   "metadata": {
    "collapsed": true
   },
   "outputs": [
    {
     "data": {
      "image/png": "[encoded data removed]",
      "text/plain": [
       "<Figure size 640x480 with 1 Axes>"
      ]
     },
     "metadata": {},
     "output_type": "display_data"
    }
   ],
   "source": [
    "#we use histogram for the frequency.\n",
    "\n",
    "sns.histplot(data=company, x='OperatingState', kde= True)\n",
    "plt.xlabel('Current status of the company')\n",
    "plt.show()"
   ]
  },
  {
   "cell_type": "markdown",
   "id": "f41359a7",
   "metadata": {},
   "source": [
    "## Q4. Statistical Analysis:\n",
    "###  A. Is there any significant difference between Funds raised by companies that are still operating vs companies that closed down? \n",
    "\n",
    "#### Answer: Yes. From the below scatterplot, we can infer that the Currently operating companies are raised higher funds comparatively than Closed companies."
   ]
  },
  {
   "cell_type": "code",
   "execution_count": 102,
   "id": "3981428f",
   "metadata": {
    "collapsed": true
   },
   "outputs": [
    {
     "data": {
      "image/png": "[encoded data removed]",
      "text/plain": [
       "<Figure size 640x480 with 1 Axes>"
      ]
     },
     "metadata": {},
     "output_type": "display_data"
    }
   ],
   "source": [
    "sns.scatterplot(data=company, y='Funds_in_million', x='OperatingState')\n",
    "plt.title('Funds raised by companies')\n",
    "plt.xlabel('Current state of company')\n",
    "plt.ylabel('Funds raised')\n",
    "plt.show()"
   ]
  },
  {
   "cell_type": "markdown",
   "id": "9f1da9c9",
   "metadata": {},
   "source": [
    "### Q4. B. Write the Null Hypothesis and Alternative Hypothesis\n",
    "\n",
    "#### Null Hypotheis(H0)        =>  There is significant difference between the currently operating companies and closed companies, when it comes to raising funds.  (current state of companies\n",
    "\n",
    "#### Alternative Hypothesis (Ha) => There is NO difference between the currently operating companies and closed companies, when it comes to raising funds."
   ]
  },
  {
   "cell_type": "markdown",
   "id": "c799f7f5",
   "metadata": {},
   "source": [
    "### Q4. C. Test for Significant and Conclusion\n",
    "#### sample size is >30 and mean value is not defined here. so we can proceed with the t-test (two tailed here)."
   ]
  },
  {
   "cell_type": "code",
   "execution_count": 164,
   "id": "e5964c85",
   "metadata": {},
   "outputs": [
    {
     "name": "stdout",
     "output_type": "stream",
     "text": [
      "0.25572701885629406\n",
      "Since the p-value is {0.256} > {alpha} we failed to reject the null hypothesis\n"
     ]
    }
   ],
   "source": [
    "import scipy.stats as stats\n",
    "\n",
    "Funds_for_operating = company.loc[company.OperatingState == 'Operating', 'Funds_in_million']\n",
    "Funds_for_closed = company.loc[company.OperatingState =='Closed', 'Funds_in_million']\n",
    "\n",
    "alpha = 0.05   # Let's consider a significance level of 5%\n",
    "\n",
    "test_statistic, p_value = stats.ttest_ind(Funds_for_operating, Funds_for_closed)\n",
    "print(p_value)\n",
    "\n",
    "if p_value <= alpha:\n",
    "    print('Since the p-value is',{round(p_value, 3)}, '< {alpha}', 'we reject the null hypothesis')\n",
    "else:\n",
    "    print ('Since the p-value is',{round(p_value, 3)},'> {alpha}', 'we failed to reject the null hypothesis')"
   ]
  },
  {
   "cell_type": "markdown",
   "id": "9ed5b298",
   "metadata": {},
   "source": [
    "#### D. Make a copy of the original data frame. "
   ]
  },
  {
   "cell_type": "code",
   "execution_count": 167,
   "id": "a794be1a",
   "metadata": {},
   "outputs": [
    {
     "data": {
      "text/html": [
       "<div>\n",
       "<style scoped>\n",
       "    .dataframe tbody tr th:only-of-type {\n",
       "        vertical-align: middle;\n",
       "    }\n",
       "\n",
       "    .dataframe tbody tr th {\n",
       "        vertical-align: top;\n",
       "    }\n",
       "\n",
       "    .dataframe thead th {\n",
       "        text-align: right;\n",
       "    }\n",
       "</style>\n",
       "<table border=\"1\" class=\"dataframe\">\n",
       "  <thead>\n",
       "    <tr style=\"text-align: right;\">\n",
       "      <th></th>\n",
       "      <th>Startup</th>\n",
       "      <th>Product</th>\n",
       "      <th>Funding</th>\n",
       "      <th>Event</th>\n",
       "      <th>Result</th>\n",
       "      <th>OperatingState</th>\n",
       "      <th>Funds_in_million</th>\n",
       "    </tr>\n",
       "  </thead>\n",
       "  <tbody>\n",
       "    <tr>\n",
       "      <th>1</th>\n",
       "      <td>3DLT</td>\n",
       "      <td>3dlt.com</td>\n",
       "      <td>$630K</td>\n",
       "      <td>Disrupt NYC 2013</td>\n",
       "      <td>Contestant</td>\n",
       "      <td>Closed</td>\n",
       "      <td>0.63</td>\n",
       "    </tr>\n",
       "    <tr>\n",
       "      <th>3</th>\n",
       "      <td>3Dprintler</td>\n",
       "      <td>3dprintler.com</td>\n",
       "      <td>$1M</td>\n",
       "      <td>Disrupt NY 2016</td>\n",
       "      <td>Audience choice</td>\n",
       "      <td>Operating</td>\n",
       "      <td>1.00</td>\n",
       "    </tr>\n",
       "    <tr>\n",
       "      <th>5</th>\n",
       "      <td>5to1</td>\n",
       "      <td>5to1.com</td>\n",
       "      <td>$19.3M</td>\n",
       "      <td>TC50 2009</td>\n",
       "      <td>Contestant</td>\n",
       "      <td>Acquired</td>\n",
       "      <td>19.30</td>\n",
       "    </tr>\n",
       "    <tr>\n",
       "      <th>6</th>\n",
       "      <td>8 Securities</td>\n",
       "      <td>8securities.com</td>\n",
       "      <td>$29M</td>\n",
       "      <td>Disrupt Beijing 2011</td>\n",
       "      <td>Finalist</td>\n",
       "      <td>Operating</td>\n",
       "      <td>29.00</td>\n",
       "    </tr>\n",
       "    <tr>\n",
       "      <th>10</th>\n",
       "      <td>AdhereTech</td>\n",
       "      <td>adheretech.com</td>\n",
       "      <td>$1.8M</td>\n",
       "      <td>Hardware Battlefield 2014</td>\n",
       "      <td>Contestant</td>\n",
       "      <td>Operating</td>\n",
       "      <td>1.80</td>\n",
       "    </tr>\n",
       "    <tr>\n",
       "      <th>...</th>\n",
       "      <td>...</td>\n",
       "      <td>...</td>\n",
       "      <td>...</td>\n",
       "      <td>...</td>\n",
       "      <td>...</td>\n",
       "      <td>...</td>\n",
       "      <td>...</td>\n",
       "    </tr>\n",
       "    <tr>\n",
       "      <th>657</th>\n",
       "      <td>Zivity</td>\n",
       "      <td>zivity.com</td>\n",
       "      <td>$8M</td>\n",
       "      <td>TC40 2007</td>\n",
       "      <td>Contestant</td>\n",
       "      <td>Operating</td>\n",
       "      <td>8.00</td>\n",
       "    </tr>\n",
       "    <tr>\n",
       "      <th>658</th>\n",
       "      <td>Zmorph</td>\n",
       "      <td>zmorph3d.com</td>\n",
       "      <td>$1M</td>\n",
       "      <td>-</td>\n",
       "      <td>Audience choice</td>\n",
       "      <td>Operating</td>\n",
       "      <td>1.00</td>\n",
       "    </tr>\n",
       "    <tr>\n",
       "      <th>659</th>\n",
       "      <td>Zocdoc</td>\n",
       "      <td>zocdoc.com</td>\n",
       "      <td>$223M</td>\n",
       "      <td>TC40 2007</td>\n",
       "      <td>Contestant</td>\n",
       "      <td>Operating</td>\n",
       "      <td>223.00</td>\n",
       "    </tr>\n",
       "    <tr>\n",
       "      <th>660</th>\n",
       "      <td>Zula</td>\n",
       "      <td>zulaapp.com</td>\n",
       "      <td>$3.4M</td>\n",
       "      <td>Disrupt SF 2013</td>\n",
       "      <td>Audience choice</td>\n",
       "      <td>Operating</td>\n",
       "      <td>3.40</td>\n",
       "    </tr>\n",
       "    <tr>\n",
       "      <th>661</th>\n",
       "      <td>Zumper</td>\n",
       "      <td>zumper.com</td>\n",
       "      <td>$31.5M</td>\n",
       "      <td>Disrupt SF 2012</td>\n",
       "      <td>Finalist</td>\n",
       "      <td>Operating</td>\n",
       "      <td>31.50</td>\n",
       "    </tr>\n",
       "  </tbody>\n",
       "</table>\n",
       "<p>446 rows × 7 columns</p>\n",
       "</div>"
      ],
      "text/plain": [
       "          Startup          Product Funding                      Event  \\\n",
       "1            3DLT         3dlt.com   $630K           Disrupt NYC 2013   \n",
       "3      3Dprintler   3dprintler.com     $1M            Disrupt NY 2016   \n",
       "5            5to1         5to1.com  $19.3M                  TC50 2009   \n",
       "6    8 Securities  8securities.com    $29M       Disrupt Beijing 2011   \n",
       "10     AdhereTech   adheretech.com   $1.8M  Hardware Battlefield 2014   \n",
       "..            ...              ...     ...                        ...   \n",
       "657        Zivity       zivity.com     $8M                  TC40 2007   \n",
       "658        Zmorph     zmorph3d.com     $1M                          -   \n",
       "659        Zocdoc       zocdoc.com   $223M                  TC40 2007   \n",
       "660          Zula      zulaapp.com   $3.4M            Disrupt SF 2013   \n",
       "661        Zumper       zumper.com  $31.5M            Disrupt SF 2012   \n",
       "\n",
       "              Result OperatingState  Funds_in_million  \n",
       "1         Contestant         Closed              0.63  \n",
       "3    Audience choice      Operating              1.00  \n",
       "5         Contestant       Acquired             19.30  \n",
       "6           Finalist      Operating             29.00  \n",
       "10        Contestant      Operating              1.80  \n",
       "..               ...            ...               ...  \n",
       "657       Contestant      Operating              8.00  \n",
       "658  Audience choice      Operating              1.00  \n",
       "659       Contestant      Operating            223.00  \n",
       "660  Audience choice      Operating              3.40  \n",
       "661         Finalist      Operating             31.50  \n",
       "\n",
       "[446 rows x 7 columns]"
      ]
     },
     "execution_count": 167,
     "metadata": {},
     "output_type": "execute_result"
    }
   ],
   "source": [
    "company_copy= company\n",
    "company_copy"
   ]
  },
  {
   "cell_type": "markdown",
   "id": "c1fd5f07",
   "metadata": {},
   "source": [
    "### E. Check frequency distribution of Result variables"
   ]
  },
  {
   "cell_type": "code",
   "execution_count": 171,
   "id": "5df5c16a",
   "metadata": {
    "collapsed": true
   },
   "outputs": [
    {
     "data": {
      "image/png": "[encoded data removed]",
      "text/plain": [
       "<Figure size 640x480 with 1 Axes>"
      ]
     },
     "metadata": {},
     "output_type": "display_data"
    }
   ],
   "source": [
    "sns.histplot(data=company, x='Result', kde=True)\n",
    "plt.title('Result Variables of Companies')\n",
    "plt.show()"
   ]
  },
  {
   "cell_type": "code",
   "execution_count": 183,
   "id": "e5117bbc",
   "metadata": {},
   "outputs": [
    {
     "data": {
      "text/plain": [
       "array(['Contestant', 'Audience choice', 'Finalist', 'Winner', 'Runner up'],\n",
       "      dtype=object)"
      ]
     },
     "execution_count": 183,
     "metadata": {},
     "output_type": "execute_result"
    }
   ],
   "source": [
    "company.Result.unique()"
   ]
  },
  {
   "cell_type": "code",
   "execution_count": 257,
   "id": "2be5517a",
   "metadata": {},
   "outputs": [],
   "source": [
    "winners = company.Result.value_counts()[1:].sum()\n",
    "contestants = company.Result.value_counts()['Contestant']"
   ]
  },
  {
   "cell_type": "code",
   "execution_count": 258,
   "id": "016b92d2",
   "metadata": {},
   "outputs": [],
   "source": [
    "contestants_operating = company.OperatingState[company.Result == 'Contestant'].value_counts().loc['Operating']\n",
    "winners_operating = company.OperatingState[company.Result != 'Contestant'].value_counts().loc['Operating']\n"
   ]
  },
  {
   "cell_type": "code",
   "execution_count": 274,
   "id": "2be05201",
   "metadata": {},
   "outputs": [
    {
     "name": "stdout",
     "output_type": "stream",
     "text": [
      "Percentage_of_winners_operating: 0.78 %\n",
      "Percentage_of_contestants_operating: 68.59 %\n"
     ]
    }
   ],
   "source": [
    "Percentage_of_winners_operating=winners_operating/winners\n",
    "Percentage_of_contestants_operating=contestants_operating/contestants*100\n",
    "print(\"Percentage_of_winners_operating:\", round(Percentage_of_winners_operating,2),\"%\")\n",
    "print(\"Percentage_of_contestants_operating:\", round(Percentage_of_contestants_operating,2),\"%\")"
   ]
  },
  {
   "cell_type": "code",
   "execution_count": 275,
   "id": "efde077c",
   "metadata": {},
   "outputs": [
    {
     "name": "stdout",
     "output_type": "stream",
     "text": [
      "Since the p-value, 0.036 < 0.05 (alpha) the difference is significant and we reject the Null hypothesis\n"
     ]
    }
   ],
   "source": [
    "from statsmodels.stats.proportion import proportions_ztest\n",
    "\n",
    "test_statistic, p_value = proportions_ztest([contestants_operating, winners_operating], [contestants, winners])\n",
    "\n",
    "if p_value <= alpha:\n",
    "    print(f'Since the p-value, {round(p_value, 3)} < {alpha} (alpha) the difference is significant and we reject the Null hypothesis')\n",
    "else:\n",
    "    print(f'''\\t Since the p-value, {round(p_value,3)} > {alpha} (alpha) the difference is not significant and,\n",
    "    we fail to reject the Null hypothesis''')"
   ]
  },
  {
   "cell_type": "markdown",
   "id": "e8561fcb",
   "metadata": {},
   "source": [
    "### Select only Event from 2013 with Disrupt keyword."
   ]
  },
  {
   "cell_type": "code",
   "execution_count": 276,
   "id": "36328b74",
   "metadata": {},
   "outputs": [
    {
     "data": {
      "text/plain": [
       "Disrupt SF 2011         24\n",
       "Disrupt NYC 2013        22\n",
       "Disrupt SF 2013         22\n",
       "Disrupt NY 2015         21\n",
       "Disrupt NYC 2012        21\n",
       "Disrupt SF 2012         20\n",
       "Disrupt NYC 2011        19\n",
       "Disrupt SF 2010         19\n",
       "Disrupt SF 2014         19\n",
       "Disrupt SF 2015         19\n",
       "Disrupt SF 2016         17\n",
       "Disrupt NYC 2014        16\n",
       "Disrupt NY 2016         16\n",
       "Disrupt NYC 2010        15\n",
       "Disrupt London 2015     12\n",
       "Disrupt London 2016     10\n",
       "Disrupt EU 2014         10\n",
       "Disrupt EU 2013          9\n",
       "Disrupt Beijing 2011     7\n",
       "Name: Event, dtype: int64"
      ]
     },
     "execution_count": 276,
     "metadata": {},
     "output_type": "execute_result"
    }
   ],
   "source": [
    "company[company.Event.apply(lambda x: 'Disrupt' in x)].Event.value_counts()"
   ]
  },
  {
   "cell_type": "code",
   "execution_count": 278,
   "id": "d2e55a61",
   "metadata": {
    "collapsed": true
   },
   "outputs": [
    {
     "data": {
      "text/plain": [
       "1         Disrupt NYC 2013\n",
       "3          Disrupt NY 2016\n",
       "13         Disrupt SF 2015\n",
       "14     Disrupt London 2016\n",
       "16         Disrupt SF 2015\n",
       "              ...         \n",
       "641       Disrupt NYC 2013\n",
       "642        Disrupt SF 2014\n",
       "646    Disrupt London 2015\n",
       "656       Disrupt NYC 2013\n",
       "660        Disrupt SF 2013\n",
       "Name: Event, Length: 193, dtype: object"
      ]
     },
     "execution_count": 278,
     "metadata": {},
     "output_type": "execute_result"
    }
   ],
   "source": [
    "Events_from_2013= company[company.Event.apply(lambda x: 'Disrupt' in x and int(x[-4:]) > 2012)].Event  # all the events of relevance\n",
    "Events_from_2013"
   ]
  },
  {
   "cell_type": "code",
   "execution_count": null,
   "id": "84648f2a",
   "metadata": {},
   "outputs": [],
   "source": []
  },
  {
   "cell_type": "code",
   "execution_count": null,
   "id": "dd43f400",
   "metadata": {},
   "outputs": [],
   "source": []
  }
 ],
 "metadata": {
  "kernelspec": {
   "display_name": "Python 3 (ipykernel)",
   "language": "python",
   "name": "python3"
  },
  "language_info": {
   "codemirror_mode": {
    "name": "ipython",
    "version": 3
   },
   "file_extension": ".py",
   "mimetype": "text/x-python",
   "name": "python",
   "nbconvert_exporter": "python",
   "pygments_lexer": "ipython3",
   "version": "3.10.9"
  }
 },
 "nbformat": 4,
 "nbformat_minor": 5
}
